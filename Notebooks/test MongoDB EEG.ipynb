{
 "cells": [
  {
   "cell_type": "code",
   "execution_count": 1,
   "id": "053db719",
   "metadata": {},
   "outputs": [],
   "source": [
    "import numpy as np\n",
    "import matplotlib\n",
    "import matplotlib.pyplot as plt\n",
    "import pandas as pd\n",
    "import pymongo\n",
    "\n",
    "from time import time\n",
    "\n",
    "#matplotlib.rcParams.keys()\n",
    "matplotlib.rcParams['font.size'] = 11\n",
    "\n",
    "import pickle\n",
    "from bson.binary import Binary"
   ]
  },
  {
   "cell_type": "code",
   "execution_count": null,
   "id": "ecff86a8",
   "metadata": {},
   "outputs": [],
   "source": []
  },
  {
   "cell_type": "code",
   "execution_count": 2,
   "id": "e617ff08",
   "metadata": {},
   "outputs": [],
   "source": [
    "# helper functions\n",
    "\n",
    "# Complex morlet wavelets (cmw) consist of a sine wave multiplied by a Gaussian. \n",
    "# (The imaginary term comes from Euler's formula.)\n",
    "cmw = lambda t, f, s: (1/np.sqrt(s*np.sqrt(np.pi))) * np.exp(-t**2/(2*s**2)) * np.exp(1j*2*np.pi*f*t)\n",
    "# Where t is time axis, f is peak frequency of wavelet, and s is standard deviation of Gaussian (std_for_gaussian)\n",
    "std_for_gaussian = lambda n, f: n/(2*np.pi*f)\n",
    "# Where f is peak frequency of wavelet and n is number of wavelet cycles\n",
    "\n",
    "# Although not used in this notebook, this visualize_wavelet function can be helpful for understanding.\n",
    "def visualize_wavelet(freq=6, n_wavelet_cycles=6, windowLengthSeconds=1, fs=300):\n",
    "    x = np.linspace(-windowLengthSeconds/2, windowLengthSeconds/2, int(windowLengthSeconds*fs)+1)  # 300 Hz sampling rate\n",
    "    complex_morlet_wavelet = cmw(x, freq, std_for_gaussian(n=n_wavelet_cycles, f=freq))\n",
    "    print('x.shape:',x.shape)\n",
    "    print('complex_morlet_wavelet.shape:', complex_morlet_wavelet.shape)\n",
    "\n",
    "    fig = plt.figure()\n",
    "    ax = fig.gca(projection='3d')\n",
    "    ax.plot(x, np.real(complex_morlet_wavelet), np.imag(complex_morlet_wavelet))\n",
    "    ax.set_xlabel('time(s)')\n",
    "    ax.set_ylabel('real')\n",
    "    ax.set_zlabel('imag')\n",
    "    plt.show()\n",
    "\n",
    "    fig = plt.figure()  # real component is centered at time=0 (like a cosine function)\n",
    "    ax = fig.gca(projection='3d')\n",
    "    ax.plot(x, np.real(complex_morlet_wavelet), np.imag(complex_morlet_wavelet))\n",
    "    ax.view_init(90, -90)\n",
    "    ax.set_xlabel('time(s)')\n",
    "    ax.set_ylabel('real')\n",
    "    ax.set_zlabel('imag')\n",
    "    plt.show()\n",
    "\n",
    "    fig = plt.figure()   # imaginary component is phase-shifted by 90 degrees (like a sine function)\n",
    "    ax = fig.gca(projection='3d')\n",
    "    ax.plot(x, np.real(complex_morlet_wavelet), np.imag(complex_morlet_wavelet))\n",
    "    ax.view_init(0, -90)\n",
    "    ax.set_xlabel('time(s)')\n",
    "    ax.set_ylabel('real')\n",
    "    ax.set_zlabel('imag')\n",
    "    plt.show()"
   ]
  },
  {
   "cell_type": "markdown",
   "id": "1c419b8c",
   "metadata": {},
   "source": [
    "# Start MongoDB"
   ]
  },
  {
   "cell_type": "code",
   "execution_count": 3,
   "id": "04b1e56c",
   "metadata": {},
   "outputs": [
    {
     "data": {
      "text/plain": [
       "'3.4.0'"
      ]
     },
     "execution_count": 3,
     "metadata": {},
     "output_type": "execute_result"
    }
   ],
   "source": [
    "pymongo.__version__"
   ]
  },
  {
   "cell_type": "code",
   "execution_count": 4,
   "id": "ac3f8962",
   "metadata": {},
   "outputs": [
    {
     "data": {
      "text/plain": [
       "MongoClient(host=['localhost:27017'], document_class=dict, tz_aware=False, connect=True)"
      ]
     },
     "execution_count": 4,
     "metadata": {},
     "output_type": "execute_result"
    }
   ],
   "source": [
    "client = pymongo.MongoClient()\n",
    "client"
   ]
  },
  {
   "cell_type": "code",
   "execution_count": 5,
   "id": "19de04cf",
   "metadata": {},
   "outputs": [
    {
     "data": {
      "text/plain": [
       "Database(MongoClient(host=['localhost:27017'], document_class=dict, tz_aware=False, connect=True), 'test_database')"
      ]
     },
     "execution_count": 5,
     "metadata": {},
     "output_type": "execute_result"
    }
   ],
   "source": [
    "db = client.test_database\n",
    "db"
   ]
  },
  {
   "cell_type": "code",
   "execution_count": 6,
   "id": "7b72409b",
   "metadata": {},
   "outputs": [
    {
     "data": {
      "text/plain": [
       "{'_id': ObjectId('60c0003ed64ad42fe4435f7b'),\n",
       " 't': 1.75,\n",
       " 'sin_A': 2.3516932427448712e-14,\n",
       " 'sin_B': -9.809554005910593e-16,\n",
       " 'sin_C': 2.3516932427448712e-14,\n",
       " 'sin_D': -9.809554005910593e-16}"
      ]
     },
     "execution_count": 6,
     "metadata": {},
     "output_type": "execute_result"
    }
   ],
   "source": [
    "# test whether I can access database from previous test session\n",
    "db.test_capped3.find_one()"
   ]
  },
  {
   "cell_type": "code",
   "execution_count": 7,
   "id": "5785a432",
   "metadata": {},
   "outputs": [
    {
     "ename": "CollectionInvalid",
     "evalue": "collection raw_cappedCollection_65 already exists",
     "output_type": "error",
     "traceback": [
      "\u001b[1;31m---------------------------------------------------------------------------\u001b[0m",
      "\u001b[1;31mCollectionInvalid\u001b[0m                         Traceback (most recent call last)",
      "\u001b[1;32m<ipython-input-7-88de9face067>\u001b[0m in \u001b[0;36m<module>\u001b[1;34m\u001b[0m\n\u001b[1;32m----> 1\u001b[1;33m \u001b[0mdb\u001b[0m\u001b[1;33m.\u001b[0m\u001b[0mcreate_collection\u001b[0m\u001b[1;33m(\u001b[0m\u001b[1;34m'raw_cappedCollection_65'\u001b[0m\u001b[1;33m,\u001b[0m \u001b[0mcapped\u001b[0m\u001b[1;33m=\u001b[0m\u001b[1;32mTrue\u001b[0m\u001b[1;33m,\u001b[0m \u001b[0msize\u001b[0m\u001b[1;33m=\u001b[0m\u001b[1;36m100000\u001b[0m\u001b[1;33m,\u001b[0m \u001b[0mmax\u001b[0m\u001b[1;33m=\u001b[0m\u001b[1;36m65\u001b[0m\u001b[1;33m)\u001b[0m\u001b[1;33m\u001b[0m\u001b[1;33m\u001b[0m\u001b[0m\n\u001b[0m",
      "\u001b[1;32mc:\\users\\waltp\\appdata\\local\\pypoetry\\cache\\virtualenvs\\bci-n7qz1uqi-py3.9\\lib\\site-packages\\pymongo\\database.py\u001b[0m in \u001b[0;36mcreate_collection\u001b[1;34m(self, name, codec_options, read_preference, write_concern, read_concern, **kwargs)\u001b[0m\n\u001b[0;32m    340\u001b[0m         \"\"\"\n\u001b[0;32m    341\u001b[0m         \u001b[1;32mif\u001b[0m \u001b[0mname\u001b[0m \u001b[1;32min\u001b[0m \u001b[0mself\u001b[0m\u001b[1;33m.\u001b[0m\u001b[0mcollection_names\u001b[0m\u001b[1;33m(\u001b[0m\u001b[1;33m)\u001b[0m\u001b[1;33m:\u001b[0m\u001b[1;33m\u001b[0m\u001b[1;33m\u001b[0m\u001b[0m\n\u001b[1;32m--> 342\u001b[1;33m             \u001b[1;32mraise\u001b[0m \u001b[0mCollectionInvalid\u001b[0m\u001b[1;33m(\u001b[0m\u001b[1;34m\"collection %s already exists\"\u001b[0m \u001b[1;33m%\u001b[0m \u001b[0mname\u001b[0m\u001b[1;33m)\u001b[0m\u001b[1;33m\u001b[0m\u001b[1;33m\u001b[0m\u001b[0m\n\u001b[0m\u001b[0;32m    343\u001b[0m \u001b[1;33m\u001b[0m\u001b[0m\n\u001b[0;32m    344\u001b[0m         return Collection(self, name, True, codec_options,\n",
      "\u001b[1;31mCollectionInvalid\u001b[0m: collection raw_cappedCollection_65 already exists"
     ]
    }
   ],
   "source": [
    "#db.create_collection('raw_cappedCollection_65', capped=True, size=100000, max=65)"
   ]
  },
  {
   "cell_type": "code",
   "execution_count": 7,
   "id": "f788fc4d",
   "metadata": {},
   "outputs": [
    {
     "data": {
      "text/plain": [
       "['test_capped2',\n",
       " 'test_capped',\n",
       " 'raw_cappedCollection_65',\n",
       " 'posts',\n",
       " 'test_capped3',\n",
       " 'processed_0']"
      ]
     },
     "execution_count": 7,
     "metadata": {},
     "output_type": "execute_result"
    }
   ],
   "source": [
    "db.collection_names()"
   ]
  },
  {
   "cell_type": "code",
   "execution_count": 9,
   "id": "e24afb51",
   "metadata": {},
   "outputs": [
    {
     "ename": "CollectionInvalid",
     "evalue": "collection processed_0 already exists",
     "output_type": "error",
     "traceback": [
      "\u001b[1;31m---------------------------------------------------------------------------\u001b[0m",
      "\u001b[1;31mCollectionInvalid\u001b[0m                         Traceback (most recent call last)",
      "\u001b[1;32m<ipython-input-9-f48d1b645375>\u001b[0m in \u001b[0;36m<module>\u001b[1;34m\u001b[0m\n\u001b[1;32m----> 1\u001b[1;33m \u001b[0mdb\u001b[0m\u001b[1;33m.\u001b[0m\u001b[0mcreate_collection\u001b[0m\u001b[1;33m(\u001b[0m\u001b[1;34m'processed_0'\u001b[0m\u001b[1;33m)\u001b[0m\u001b[1;33m\u001b[0m\u001b[1;33m\u001b[0m\u001b[0m\n\u001b[0m\u001b[0;32m      2\u001b[0m \u001b[0mdb\u001b[0m\u001b[1;33m.\u001b[0m\u001b[0mcollection_names\u001b[0m\u001b[1;33m(\u001b[0m\u001b[1;33m)\u001b[0m\u001b[1;33m\u001b[0m\u001b[1;33m\u001b[0m\u001b[0m\n",
      "\u001b[1;32mc:\\users\\waltp\\appdata\\local\\pypoetry\\cache\\virtualenvs\\bci-n7qz1uqi-py3.9\\lib\\site-packages\\pymongo\\database.py\u001b[0m in \u001b[0;36mcreate_collection\u001b[1;34m(self, name, codec_options, read_preference, write_concern, read_concern, **kwargs)\u001b[0m\n\u001b[0;32m    340\u001b[0m         \"\"\"\n\u001b[0;32m    341\u001b[0m         \u001b[1;32mif\u001b[0m \u001b[0mname\u001b[0m \u001b[1;32min\u001b[0m \u001b[0mself\u001b[0m\u001b[1;33m.\u001b[0m\u001b[0mcollection_names\u001b[0m\u001b[1;33m(\u001b[0m\u001b[1;33m)\u001b[0m\u001b[1;33m:\u001b[0m\u001b[1;33m\u001b[0m\u001b[1;33m\u001b[0m\u001b[0m\n\u001b[1;32m--> 342\u001b[1;33m             \u001b[1;32mraise\u001b[0m \u001b[0mCollectionInvalid\u001b[0m\u001b[1;33m(\u001b[0m\u001b[1;34m\"collection %s already exists\"\u001b[0m \u001b[1;33m%\u001b[0m \u001b[0mname\u001b[0m\u001b[1;33m)\u001b[0m\u001b[1;33m\u001b[0m\u001b[1;33m\u001b[0m\u001b[0m\n\u001b[0m\u001b[0;32m    343\u001b[0m \u001b[1;33m\u001b[0m\u001b[0m\n\u001b[0;32m    344\u001b[0m         return Collection(self, name, True, codec_options,\n",
      "\u001b[1;31mCollectionInvalid\u001b[0m: collection processed_0 already exists"
     ]
    }
   ],
   "source": [
    "#db.create_collection('processed_0')\n",
    "#db.collection_names()"
   ]
  },
  {
   "cell_type": "code",
   "execution_count": 8,
   "id": "5edac767",
   "metadata": {},
   "outputs": [],
   "source": [
    "def plot_finished_session(list_wavelet_solutions_, list_Hjorth_parameters_):\n",
    "    complex_wavelet_tensor = np.stack(list_wavelet_solutions_, axis=0)\n",
    "    \n",
    "    print('plotting wavelet power on each channel (columns) and each frequency (rows)')\n",
    "    power_tensor = np.abs(complex_wavelet_tensor**2)\n",
    "    \n",
    "    n_time_points = complex_wavelet_tensor.shape[0]\n",
    "    rows = complex_wavelet_tensor.shape[1]\n",
    "    columns = complex_wavelet_tensor.shape[2]\n",
    "    t = np.linspace(0, 0.25*n_time_points, n_time_points, endpoint=False)\n",
    "    fig, axes = plt.subplots(rows, columns, figsize=(columns*5, rows*3))\n",
    "    for row in rows:\n",
    "        for col in columns:\n",
    "            axes[row, column].plot(t, power_tensor[:, row, column])\n",
    "    plt.show()\n",
    "    \n",
    "    print('plotting Hjorth parameters')\n",
    "    fig, axes = plt.subplots(1, 3, figsize=(18, 4))\n",
    "    for ax, param in zip(axes,['A','M','C']):\n",
    "        ax.plot(t, [Hjorth_params[param] for Hjorth_params in list_Hjorth_parameters_])\n",
    "        ax.set_title(param)\n",
    "    plt.show()       \n",
    "            "
   ]
  },
  {
   "cell_type": "code",
   "execution_count": null,
   "id": "5835992a",
   "metadata": {},
   "outputs": [],
   "source": []
  },
  {
   "cell_type": "code",
   "execution_count": 9,
   "id": "9e0c87c2",
   "metadata": {},
   "outputs": [],
   "source": [
    "# Using Complex Morlet Wavelets\n",
    "cmw = lambda t, f, s: (1/np.sqrt(s*np.sqrt(np.pi))) * np.exp(-t**2/(2*s**2)) * np.exp(1j*2*np.pi*f*t)\n",
    "std_for_gaussian = lambda n, f: n/(2*np.pi*f)\n",
    "\n",
    "windowLengthSeconds=0.25\n",
    "fs=256\n",
    "x = np.linspace(-windowLengthSeconds/2, windowLengthSeconds/2, int(windowLengthSeconds*fs)+1)  \n",
    "wavelet_freq_peaks = [6, 12, 24] #range(5,80,2)\n",
    "complex_morlet_wavelet = np.vstack([cmw(x, f=f_, s=std_for_gaussian(n=f_/5, f=f_)) for f_ in wavelet_freq_peaks])"
   ]
  },
  {
   "cell_type": "code",
   "execution_count": 10,
   "id": "c1f9fcb5",
   "metadata": {},
   "outputs": [
    {
     "name": "stdout",
     "output_type": "stream",
     "text": [
      "Listening on UDP port 5000\n"
     ]
    },
    {
     "ename": "KeyboardInterrupt",
     "evalue": "",
     "output_type": "error",
     "traceback": [
      "\u001b[1;31m---------------------------------------------------------------------------\u001b[0m",
      "\u001b[1;31mKeyboardInterrupt\u001b[0m                         Traceback (most recent call last)",
      "\u001b[1;32m<ipython-input-10-942451c62846>\u001b[0m in \u001b[0;36m<module>\u001b[1;34m\u001b[0m\n\u001b[0;32m     61\u001b[0m     \u001b[0mserver\u001b[0m \u001b[1;33m=\u001b[0m \u001b[0mosc_server\u001b[0m\u001b[1;33m.\u001b[0m\u001b[0mThreadingOSCUDPServer\u001b[0m\u001b[1;33m(\u001b[0m\u001b[1;33m(\u001b[0m\u001b[0mip\u001b[0m\u001b[1;33m,\u001b[0m \u001b[0mport\u001b[0m\u001b[1;33m)\u001b[0m\u001b[1;33m,\u001b[0m \u001b[0mdispatcher\u001b[0m\u001b[1;33m)\u001b[0m\u001b[1;33m\u001b[0m\u001b[1;33m\u001b[0m\u001b[0m\n\u001b[0;32m     62\u001b[0m     \u001b[0mprint\u001b[0m\u001b[1;33m(\u001b[0m\u001b[1;34m\"Listening on UDP port \"\u001b[0m\u001b[1;33m+\u001b[0m\u001b[0mstr\u001b[0m\u001b[1;33m(\u001b[0m\u001b[0mport\u001b[0m\u001b[1;33m)\u001b[0m\u001b[1;33m)\u001b[0m\u001b[1;33m\u001b[0m\u001b[1;33m\u001b[0m\u001b[0m\n\u001b[1;32m---> 63\u001b[1;33m     \u001b[0mserver\u001b[0m\u001b[1;33m.\u001b[0m\u001b[0mserve_forever\u001b[0m\u001b[1;33m(\u001b[0m\u001b[1;33m)\u001b[0m\u001b[1;33m\u001b[0m\u001b[1;33m\u001b[0m\u001b[0m\n\u001b[0m",
      "\u001b[1;32mC:\\Python39\\lib\\socketserver.py\u001b[0m in \u001b[0;36mserve_forever\u001b[1;34m(self, poll_interval)\u001b[0m\n\u001b[0;32m    230\u001b[0m \u001b[1;33m\u001b[0m\u001b[0m\n\u001b[0;32m    231\u001b[0m                 \u001b[1;32mwhile\u001b[0m \u001b[1;32mnot\u001b[0m \u001b[0mself\u001b[0m\u001b[1;33m.\u001b[0m\u001b[0m__shutdown_request\u001b[0m\u001b[1;33m:\u001b[0m\u001b[1;33m\u001b[0m\u001b[1;33m\u001b[0m\u001b[0m\n\u001b[1;32m--> 232\u001b[1;33m                     \u001b[0mready\u001b[0m \u001b[1;33m=\u001b[0m \u001b[0mselector\u001b[0m\u001b[1;33m.\u001b[0m\u001b[0mselect\u001b[0m\u001b[1;33m(\u001b[0m\u001b[0mpoll_interval\u001b[0m\u001b[1;33m)\u001b[0m\u001b[1;33m\u001b[0m\u001b[1;33m\u001b[0m\u001b[0m\n\u001b[0m\u001b[0;32m    233\u001b[0m                     \u001b[1;31m# bpo-35017: shutdown() called during select(), exit immediately.\u001b[0m\u001b[1;33m\u001b[0m\u001b[1;33m\u001b[0m\u001b[1;33m\u001b[0m\u001b[0m\n\u001b[0;32m    234\u001b[0m                     \u001b[1;32mif\u001b[0m \u001b[0mself\u001b[0m\u001b[1;33m.\u001b[0m\u001b[0m__shutdown_request\u001b[0m\u001b[1;33m:\u001b[0m\u001b[1;33m\u001b[0m\u001b[1;33m\u001b[0m\u001b[0m\n",
      "\u001b[1;32mC:\\Python39\\lib\\selectors.py\u001b[0m in \u001b[0;36mselect\u001b[1;34m(self, timeout)\u001b[0m\n\u001b[0;32m    322\u001b[0m         \u001b[0mready\u001b[0m \u001b[1;33m=\u001b[0m \u001b[1;33m[\u001b[0m\u001b[1;33m]\u001b[0m\u001b[1;33m\u001b[0m\u001b[1;33m\u001b[0m\u001b[0m\n\u001b[0;32m    323\u001b[0m         \u001b[1;32mtry\u001b[0m\u001b[1;33m:\u001b[0m\u001b[1;33m\u001b[0m\u001b[1;33m\u001b[0m\u001b[0m\n\u001b[1;32m--> 324\u001b[1;33m             \u001b[0mr\u001b[0m\u001b[1;33m,\u001b[0m \u001b[0mw\u001b[0m\u001b[1;33m,\u001b[0m \u001b[0m_\u001b[0m \u001b[1;33m=\u001b[0m \u001b[0mself\u001b[0m\u001b[1;33m.\u001b[0m\u001b[0m_select\u001b[0m\u001b[1;33m(\u001b[0m\u001b[0mself\u001b[0m\u001b[1;33m.\u001b[0m\u001b[0m_readers\u001b[0m\u001b[1;33m,\u001b[0m \u001b[0mself\u001b[0m\u001b[1;33m.\u001b[0m\u001b[0m_writers\u001b[0m\u001b[1;33m,\u001b[0m \u001b[1;33m[\u001b[0m\u001b[1;33m]\u001b[0m\u001b[1;33m,\u001b[0m \u001b[0mtimeout\u001b[0m\u001b[1;33m)\u001b[0m\u001b[1;33m\u001b[0m\u001b[1;33m\u001b[0m\u001b[0m\n\u001b[0m\u001b[0;32m    325\u001b[0m         \u001b[1;32mexcept\u001b[0m \u001b[0mInterruptedError\u001b[0m\u001b[1;33m:\u001b[0m\u001b[1;33m\u001b[0m\u001b[1;33m\u001b[0m\u001b[0m\n\u001b[0;32m    326\u001b[0m             \u001b[1;32mreturn\u001b[0m \u001b[0mready\u001b[0m\u001b[1;33m\u001b[0m\u001b[1;33m\u001b[0m\u001b[0m\n",
      "\u001b[1;32mC:\\Python39\\lib\\selectors.py\u001b[0m in \u001b[0;36m_select\u001b[1;34m(self, r, w, _, timeout)\u001b[0m\n\u001b[0;32m    313\u001b[0m     \u001b[1;32mif\u001b[0m \u001b[0msys\u001b[0m\u001b[1;33m.\u001b[0m\u001b[0mplatform\u001b[0m \u001b[1;33m==\u001b[0m \u001b[1;34m'win32'\u001b[0m\u001b[1;33m:\u001b[0m\u001b[1;33m\u001b[0m\u001b[1;33m\u001b[0m\u001b[0m\n\u001b[0;32m    314\u001b[0m         \u001b[1;32mdef\u001b[0m \u001b[0m_select\u001b[0m\u001b[1;33m(\u001b[0m\u001b[0mself\u001b[0m\u001b[1;33m,\u001b[0m \u001b[0mr\u001b[0m\u001b[1;33m,\u001b[0m \u001b[0mw\u001b[0m\u001b[1;33m,\u001b[0m \u001b[0m_\u001b[0m\u001b[1;33m,\u001b[0m \u001b[0mtimeout\u001b[0m\u001b[1;33m=\u001b[0m\u001b[1;32mNone\u001b[0m\u001b[1;33m)\u001b[0m\u001b[1;33m:\u001b[0m\u001b[1;33m\u001b[0m\u001b[1;33m\u001b[0m\u001b[0m\n\u001b[1;32m--> 315\u001b[1;33m             \u001b[0mr\u001b[0m\u001b[1;33m,\u001b[0m \u001b[0mw\u001b[0m\u001b[1;33m,\u001b[0m \u001b[0mx\u001b[0m \u001b[1;33m=\u001b[0m \u001b[0mselect\u001b[0m\u001b[1;33m.\u001b[0m\u001b[0mselect\u001b[0m\u001b[1;33m(\u001b[0m\u001b[0mr\u001b[0m\u001b[1;33m,\u001b[0m \u001b[0mw\u001b[0m\u001b[1;33m,\u001b[0m \u001b[0mw\u001b[0m\u001b[1;33m,\u001b[0m \u001b[0mtimeout\u001b[0m\u001b[1;33m)\u001b[0m\u001b[1;33m\u001b[0m\u001b[1;33m\u001b[0m\u001b[0m\n\u001b[0m\u001b[0;32m    316\u001b[0m             \u001b[1;32mreturn\u001b[0m \u001b[0mr\u001b[0m\u001b[1;33m,\u001b[0m \u001b[0mw\u001b[0m \u001b[1;33m+\u001b[0m \u001b[0mx\u001b[0m\u001b[1;33m,\u001b[0m \u001b[1;33m[\u001b[0m\u001b[1;33m]\u001b[0m\u001b[1;33m\u001b[0m\u001b[1;33m\u001b[0m\u001b[0m\n\u001b[0;32m    317\u001b[0m     \u001b[1;32melse\u001b[0m\u001b[1;33m:\u001b[0m\u001b[1;33m\u001b[0m\u001b[1;33m\u001b[0m\u001b[0m\n",
      "\u001b[1;31mKeyboardInterrupt\u001b[0m: "
     ]
    }
   ],
   "source": [
    "\"\"\"\n",
    "### Code adapted from:\n",
    "**********************\n",
    "Mind Monitor - Minimal EEG OSC Receiver\n",
    "Coded: James Clutterbuck (2021)\n",
    "Requires: pip install python-osc\n",
    "**********************\n",
    "\"\"\"\n",
    "from datetime import datetime\n",
    "from pythonosc import dispatcher\n",
    "from pythonosc import osc_server\n",
    "\n",
    "ip = \"192.168.1.165\"\n",
    "port = 5000\n",
    "\n",
    "#EEG_log_list = []\n",
    "#global count_time_point\n",
    "count_time_point = 0\n",
    "\n",
    "def eeg_handler(address: str,*args):\n",
    "    global count_time_point\n",
    "    \n",
    "    count_time_point = count_time_point + 1\n",
    "    dateTimeObj = datetime.now()\n",
    "    printStr = dateTimeObj.strftime(\"%Y-%m-%d %H:%M:%S.%f\")\n",
    "    data_dict = {\"t\":printStr, \"TP9\":float(args[0]), \"AF7\":float(args[1]), \"AF8\":float(args[2]), \"TP10\":float(args[3])}\n",
    "    \n",
    "    db.raw_cappedCollection_65.insert_one(data_dict)\n",
    "    \n",
    "    if count_time_point == 64:  # if a quarter-second of data has been collected\n",
    "        print('finished loop of quarter second')\n",
    "        count_time_point = 0\n",
    "        docs = db.raw_cappedCollection_65.find({}, projection={\"TP9\":1, \"AF7\":1, \"AF8\":1, \"TP10\":1, \"_id\":0})\n",
    "        X = np.array([[doc['TP9'], doc['AF7'], doc['AF8'], doc['TP10']] for doc in docs])\n",
    "        wavelet_solution = np.dot(complex_morlet_wavelet, X)   # Convolution-like operation. Shape=(n_wavelets, n_channels)\n",
    "        Hjorth_parameters = {'A': np.var(X, axis=0), \n",
    "                             'M': np.sqrt(np.var(np.diff(X, axis=0), axis=0)/np.var(X, axis=0)),\n",
    "                             'C': np.sqrt(np.var(np.diff(X, n=2, axis=0), axis=0)/np.var(X, axis=0))}\n",
    "        \n",
    "        #list_wavelet_solutions.append(wavelet_solution)\n",
    "        #list_Hjorth_parameters.append(Hjorth_parameters)\n",
    "        \n",
    "        processed_data_dict = {'complex_wavelet_matrix':wavelet_solution, \n",
    "                              'Hjorth_A':Hjorth_parameters['A'],\n",
    "                              'Hjorth_M':Hjorth_parameters['M'],\n",
    "                              'Hjorth_C':Hjorth_parameters['C']}  #Binary(pickle.dumps(wavelet_solution))\n",
    "        \n",
    "        db.processed_0.insert_one(processed_data_dict)\n",
    "\n",
    "    \n",
    "    #for arg in args:\n",
    "    #    printStr += \",\"+str(arg)\n",
    "    #print(printStr)\n",
    "    #EEG_log_list.append(printStr)\n",
    "    #print('EEG LOG LIST NOW HAS LENGTH', len(EEG_log_list))\n",
    "    \n",
    "if __name__ == \"__main__\":\n",
    "    dispatcher = dispatcher.Dispatcher()\n",
    "    dispatcher.map(\"/muse/eeg\", eeg_handler)\n",
    "\n",
    "    server = osc_server.ThreadingOSCUDPServer((ip, port), dispatcher)\n",
    "    print(\"Listening on UDP port \"+str(port))\n",
    "    server.serve_forever()"
   ]
  },
  {
   "cell_type": "code",
   "execution_count": 11,
   "id": "8a07dea5",
   "metadata": {},
   "outputs": [],
   "source": [
    "list_wavelet_solutions = [x for x in db.processed_0.find({}, projection={'complex_wavelet_matrix':1, '_id':0})]\n",
    "\n",
    "list_Hjorth_parameters = [{'A':doc['Hjorth_A'], 'M':doc['Hjorth_M'], 'C':doc['Hjorth_C']} for doc in db.processed_0.find({}, \n",
    "                                       projection={'Hjorth_A':1, 'Hjorth_M':1, 'Hjorth_C':1, '_id':0})]"
   ]
  },
  {
   "cell_type": "code",
   "execution_count": 14,
   "id": "7e62644f",
   "metadata": {},
   "outputs": [
    {
     "name": "stdout",
     "output_type": "stream",
     "text": [
      "{'_id': ObjectId('60c019b9d64ad447d49253ef'), 't': '2021-06-08 21:30:33.879988', 'TP9': 797.8021850585938, 'AF7': 807.4725341796875, 'AF8': 804.6520385742188, 'TP10': 794.5787353515625}\n",
      "{'_id': ObjectId('60c019b9d64ad447d49253f0'), 't': '2021-06-08 21:30:33.879988', 'TP9': 807.87548828125, 'AF7': 808.6813354492188, 'AF8': 807.069580078125, 'TP10': 795.7875366210938}\n",
      "{'_id': ObjectId('60c019b9d64ad447d49253f1'), 't': '2021-06-08 21:30:33.880992', 'TP9': 834.06591796875, 'AF7': 805.054931640625, 'AF8': 802.2344360351562, 'TP10': 796.996337890625}\n",
      "{'_id': ObjectId('60c019b9d64ad447d49253f2'), 't': '2021-06-08 21:30:33.880992', 'TP9': 842.12451171875, 'AF7': 809.4871826171875, 'AF8': 805.4578857421875, 'TP10': 801.025634765625}\n",
      "{'_id': ObjectId('60c019b9d64ad447d49253f3'), 't': '2021-06-08 21:30:33.880992', 'TP9': 880.4029541015625, 'AF7': 806.2637329101562, 'AF8': 805.4578857421875, 'TP10': 795.3846435546875}\n",
      "{'_id': ObjectId('60c019b9d64ad447d49253f4'), 't': '2021-06-08 21:30:33.881988', 'TP9': 767.5823974609375, 'AF7': 807.069580078125, 'AF8': 786.5201416015625, 'TP10': 795.7875366210938}\n",
      "{'_id': ObjectId('60c019b9d64ad447d49253f5'), 't': '2021-06-08 21:30:33.964998', 'TP9': 792.5640869140625, 'AF7': 801.8314819335938, 'AF8': 786.923095703125, 'TP10': 788.937744140625}\n",
      "{'_id': ObjectId('60c019b9d64ad447d49253f6'), 't': '2021-06-08 21:30:33.980139', 'TP9': 842.5274658203125, 'AF7': 795.7875366210938, 'AF8': 796.996337890625, 'TP10': 796.1904907226562}\n",
      "{'_id': ObjectId('60c019b9d64ad447d49253f7'), 't': '2021-06-08 21:30:33.980139', 'TP9': 833.6630249023438, 'AF7': 798.2051391601562, 'AF8': 797.3992919921875, 'TP10': 807.87548828125}\n",
      "{'_id': ObjectId('60c019b9d64ad447d49253f8'), 't': '2021-06-08 21:30:33.981141', 'TP9': 817.5457763671875, 'AF7': 798.6080322265625, 'AF8': 797.3992919921875, 'TP10': 790.952392578125}\n",
      "{'_id': ObjectId('60c019b9d64ad447d49253f9'), 't': '2021-06-08 21:30:33.982141', 'TP9': 774.029296875, 'AF7': 803.4432373046875, 'AF8': 803.8461303710938, 'TP10': 800.2197875976562}\n",
      "{'_id': ObjectId('60c019b9d64ad447d49253fa'), 't': '2021-06-08 21:30:33.983141', 'TP9': 835.2747192382812, 'AF7': 798.2051391601562, 'AF8': 804.2490844726562, 'TP10': 807.4725341796875}\n",
      "{'_id': ObjectId('60c019b9d64ad447d49253fb'), 't': '2021-06-08 21:30:33.983141', 'TP9': 764.3589477539062, 'AF7': 800.2197875976562, 'AF8': 798.2051391601562, 'TP10': 780.879150390625}\n",
      "{'_id': ObjectId('60c019b9d64ad447d49253fc'), 't': '2021-06-08 21:30:33.984145', 'TP9': 796.5933837890625, 'AF7': 807.069580078125, 'AF8': 803.8461303710938, 'TP10': 809.89013671875}\n",
      "{'_id': ObjectId('60c019b9d64ad447d49253fd'), 't': '2021-06-08 21:30:33.984145', 'TP9': 811.098876953125, 'AF7': 806.6666870117188, 'AF8': 793.3699340820312, 'TP10': 807.4725341796875}\n",
      "{'_id': ObjectId('60c019b9d64ad447d49253fe'), 't': '2021-06-08 21:30:33.985143', 'TP9': 806.6666870117188, 'AF7': 798.6080322265625, 'AF8': 803.8461303710938, 'TP10': 801.025634765625}\n",
      "{'_id': ObjectId('60c019b9d64ad447d49253ff'), 't': '2021-06-08 21:30:33.985143', 'TP9': 808.2783813476562, 'AF7': 799.4139404296875, 'AF8': 802.6373901367188, 'TP10': 812.3076782226562}\n",
      "{'_id': ObjectId('60c019b9d64ad447d4925400'), 't': '2021-06-08 21:30:33.986145', 'TP9': 794.1758422851562, 'AF7': 801.8314819335938, 'AF8': 801.4285888671875, 'TP10': 804.2490844726562}\n",
      "{'_id': ObjectId('60c019bad64ad447d4925401'), 't': '2021-06-08 21:30:34.025654', 'TP9': 811.5018310546875, 'AF7': 804.6520385742188, 'AF8': 786.5201416015625, 'TP10': 790.5494384765625}\n",
      "{'_id': ObjectId('60c019bad64ad447d4925402'), 't': '2021-06-08 21:30:34.025654', 'TP9': 814.3223266601562, 'AF7': 802.6373901367188, 'AF8': 796.1904907226562, 'TP10': 790.952392578125}\n",
      "{'_id': ObjectId('60c019bad64ad447d4925403'), 't': '2021-06-08 21:30:34.026659', 'TP9': 839.3040161132812, 'AF7': 804.6520385742188, 'AF8': 810.2930297851562, 'TP10': 801.8314819335938}\n",
      "{'_id': ObjectId('60c019bad64ad447d4925404'), 't': '2021-06-08 21:30:34.026659', 'TP9': 838.901123046875, 'AF7': 809.084228515625, 'AF8': 807.4725341796875, 'TP10': 802.6373901367188}\n",
      "{'_id': ObjectId('60c019bad64ad447d4925405'), 't': '2021-06-08 21:30:34.026659', 'TP9': 820.3662719726562, 'AF7': 803.040283203125, 'AF8': 800.6226806640625, 'TP10': 792.5640869140625}\n",
      "{'_id': ObjectId('60c019bad64ad447d4925406'), 't': '2021-06-08 21:30:34.027662', 'TP9': 840.10986328125, 'AF7': 807.4725341796875, 'AF8': 802.6373901367188, 'TP10': 784.5054931640625}\n",
      "{'_id': ObjectId('60c019bad64ad447d4925407'), 't': '2021-06-08 21:30:34.027662', 'TP9': 826.4102783203125, 'AF7': 807.4725341796875, 'AF8': 805.8607788085938, 'TP10': 813.91943359375}\n",
      "{'_id': ObjectId('60c019bad64ad447d4925408'), 't': '2021-06-08 21:30:34.028657', 'TP9': 861.8681030273438, 'AF7': 806.6666870117188, 'AF8': 807.87548828125, 'TP10': 799.8168334960938}\n",
      "{'_id': ObjectId('60c019bad64ad447d4925409'), 't': '2021-06-08 21:30:34.028657', 'TP9': 836.4835205078125, 'AF7': 813.113525390625, 'AF8': 810.6959838867188, 'TP10': 803.040283203125}\n",
      "{'_id': ObjectId('60c019bad64ad447d492540a'), 't': '2021-06-08 21:30:34.029660', 'TP9': 853.4066162109375, 'AF7': 810.2930297851562, 'AF8': 793.7728881835938, 'TP10': 799.8168334960938}\n",
      "{'_id': ObjectId('60c019bad64ad447d492540b'), 't': '2021-06-08 21:30:34.029660', 'TP9': 856.6300659179688, 'AF7': 807.87548828125, 'AF8': 801.8314819335938, 'TP10': 797.8021850585938}\n",
      "{'_id': ObjectId('60c019bad64ad447d492540c'), 't': '2021-06-08 21:30:34.029660', 'TP9': 863.076904296875, 'AF7': 807.4725341796875, 'AF8': 800.6226806640625, 'TP10': 791.7582397460938}\n",
      "{'_id': ObjectId('60c019bad64ad447d492540d'), 't': '2021-06-08 21:30:34.088652', 'TP9': 841.3186645507812, 'AF7': 810.6959838867188, 'AF8': 805.8607788085938, 'TP10': 800.6226806640625}\n",
      "{'_id': ObjectId('60c019bad64ad447d492540e'), 't': '2021-06-08 21:30:34.088652', 'TP9': 849.7802124023438, 'AF7': 807.4725341796875, 'AF8': 801.025634765625, 'TP10': 794.981689453125}\n",
      "{'_id': ObjectId('60c019bad64ad447d492540f'), 't': '2021-06-08 21:30:34.089654', 'TP9': 907.3992919921875, 'AF7': 806.6666870117188, 'AF8': 799.4139404296875, 'TP10': 795.3846435546875}\n",
      "{'_id': ObjectId('60c019bad64ad447d4925410'), 't': '2021-06-08 21:30:34.089654', 'TP9': 852.1978149414062, 'AF7': 805.054931640625, 'AF8': 803.040283203125, 'TP10': 796.996337890625}\n",
      "{'_id': ObjectId('60c019bad64ad447d4925411'), 't': '2021-06-08 21:30:34.089654', 'TP9': 902.967041015625, 'AF7': 807.4725341796875, 'AF8': 796.996337890625, 'TP10': 796.1904907226562}\n",
      "{'_id': ObjectId('60c019bad64ad447d4925412'), 't': '2021-06-08 21:30:34.090653', 'TP9': 870.3296508789062, 'AF7': 806.2637329101562, 'AF8': 801.8314819335938, 'TP10': 793.3699340820312}\n",
      "{'_id': ObjectId('60c019bad64ad447d4925413'), 't': '2021-06-08 21:30:34.090653', 'TP9': 816.7399291992188, 'AF7': 803.040283203125, 'AF8': 800.2197875976562, 'TP10': 796.5933837890625}\n",
      "{'_id': ObjectId('60c019bad64ad447d4925414'), 't': '2021-06-08 21:30:34.091654', 'TP9': 842.930419921875, 'AF7': 807.87548828125, 'AF8': 812.7106323242188, 'TP10': 807.069580078125}\n",
      "{'_id': ObjectId('60c019bad64ad447d4925415'), 't': '2021-06-08 21:30:34.091654', 'TP9': 794.1758422851562, 'AF7': 808.2783813476562, 'AF8': 793.7728881835938, 'TP10': 807.069580078125}\n",
      "{'_id': ObjectId('60c019bad64ad447d4925416'), 't': '2021-06-08 21:30:34.092653', 'TP9': 844.5421142578125, 'AF7': 807.069580078125, 'AF8': 804.2490844726562, 'TP10': 804.2490844726562}\n",
      "{'_id': ObjectId('60c019bad64ad447d4925417'), 't': '2021-06-08 21:30:34.092653', 'TP9': 823.5897216796875, 'AF7': 811.5018310546875, 'AF8': 804.2490844726562, 'TP10': 818.7545776367188}\n",
      "{'_id': ObjectId('60c019bad64ad447d4925418'), 't': '2021-06-08 21:30:34.093654', 'TP9': 828.8278198242188, 'AF7': 804.2490844726562, 'AF8': 804.6520385742188, 'TP10': 809.4871826171875}\n",
      "{'_id': ObjectId('60c019bad64ad447d4925419'), 't': '2021-06-08 21:30:34.093654', 'TP9': 817.94873046875, 'AF7': 809.084228515625, 'AF8': 806.2637329101562, 'TP10': 800.6226806640625}\n",
      "{'_id': ObjectId('60c019bad64ad447d492541a'), 't': '2021-06-08 21:30:34.094654', 'TP9': 840.5128173828125, 'AF7': 809.084228515625, 'AF8': 801.4285888671875, 'TP10': 805.054931640625}\n",
      "{'_id': ObjectId('60c019bad64ad447d492541b'), 't': '2021-06-08 21:30:34.094654', 'TP9': 808.2783813476562, 'AF7': 811.90478515625, 'AF8': 810.6959838867188, 'TP10': 812.7106323242188}\n",
      "{'_id': ObjectId('60c019bad64ad447d492541c'), 't': '2021-06-08 21:30:34.094654', 'TP9': 841.7216186523438, 'AF7': 812.3076782226562, 'AF8': 809.084228515625, 'TP10': 807.4725341796875}\n",
      "{'_id': ObjectId('60c019bad64ad447d492541d'), 't': '2021-06-08 21:30:34.095657', 'TP9': 780.0732421875, 'AF7': 807.87548828125, 'AF8': 806.2637329101562, 'TP10': 803.8461303710938}\n",
      "{'_id': ObjectId('60c019bad64ad447d492541e'), 't': '2021-06-08 21:30:34.095657', 'TP9': 792.967041015625, 'AF7': 810.2930297851562, 'AF8': 804.2490844726562, 'TP10': 809.4871826171875}\n",
      "{'_id': ObjectId('60c019bad64ad447d492541f'), 't': '2021-06-08 21:30:34.096654', 'TP9': 805.054931640625, 'AF7': 813.113525390625, 'AF8': 812.3076782226562, 'TP10': 809.89013671875}\n",
      "{'_id': ObjectId('60c019bad64ad447d4925420'), 't': '2021-06-08 21:30:34.096654', 'TP9': 821.97802734375, 'AF7': 809.89013671875, 'AF8': 809.084228515625, 'TP10': 821.5750732421875}\n",
      "{'_id': ObjectId('60c019bad64ad447d4925421'), 't': '2021-06-08 21:30:34.097658', 'TP9': 832.05126953125, 'AF7': 804.2490844726562, 'AF8': 805.054931640625, 'TP10': 809.89013671875}\n",
      "{'_id': ObjectId('60c019bad64ad447d4925422'), 't': '2021-06-08 21:30:34.097658', 'TP9': 805.8607788085938, 'AF7': 807.4725341796875, 'AF8': 810.6959838867188, 'TP10': 817.5457763671875}\n",
      "{'_id': ObjectId('60c019bad64ad447d4925423'), 't': '2021-06-08 21:30:34.097658', 'TP9': 837.2893676757812, 'AF7': 807.069580078125, 'AF8': 803.8461303710938, 'TP10': 814.7252807617188}\n",
      "{'_id': ObjectId('60c019bad64ad447d4925424'), 't': '2021-06-08 21:30:34.098659', 'TP9': 828.02197265625, 'AF7': 808.2783813476562, 'AF8': 810.2930297851562, 'TP10': 795.7875366210938}\n",
      "{'_id': ObjectId('60c019bad64ad447d4925425'), 't': '2021-06-08 21:30:34.136694', 'TP9': 878.3883056640625, 'AF7': 813.113525390625, 'AF8': 807.4725341796875, 'TP10': 817.5457763671875}\n",
      "{'_id': ObjectId('60c019bad64ad447d4925426'), 't': '2021-06-08 21:30:34.137697', 'TP9': 894.5054931640625, 'AF7': 812.7106323242188, 'AF8': 802.6373901367188, 'TP10': 818.7545776367188}\n",
      "{'_id': ObjectId('60c019bad64ad447d4925427'), 't': '2021-06-08 21:30:34.137697', 'TP9': 875.1648559570312, 'AF7': 809.084228515625, 'AF8': 793.3699340820312, 'TP10': 819.96337890625}\n",
      "{'_id': ObjectId('60c019bad64ad447d4925428'), 't': '2021-06-08 21:30:34.138693', 'TP9': 933.5897216796875, 'AF7': 805.4578857421875, 'AF8': 804.6520385742188, 'TP10': 807.87548828125}\n",
      "{'_id': ObjectId('60c019bad64ad447d4925429'), 't': '2021-06-08 21:30:34.139696', 'TP9': 877.1795043945312, 'AF7': 807.87548828125, 'AF8': 798.2051391601562, 'TP10': 810.6959838867188}\n",
      "{'_id': ObjectId('60c019bad64ad447d492542a'), 't': '2021-06-08 21:30:34.139696', 'TP9': 875.5677490234375, 'AF7': 810.2930297851562, 'AF8': 802.2344360351562, 'TP10': 808.2783813476562}\n",
      "{'_id': ObjectId('60c019bad64ad447d492542b'), 't': '2021-06-08 21:30:34.139696', 'TP9': 921.90478515625, 'AF7': 806.2637329101562, 'AF8': 801.4285888671875, 'TP10': 807.87548828125}\n",
      "{'_id': ObjectId('60c019bad64ad447d492542c'), 't': '2021-06-08 21:30:34.140694', 'TP9': 921.098876953125, 'AF7': 810.2930297851562, 'AF8': 806.2637329101562, 'TP10': 816.7399291992188}\n",
      "{'_id': ObjectId('60c019bad64ad447d492542d'), 't': '2021-06-08 21:30:34.140694', 'TP9': 906.5933837890625, 'AF7': 801.8314819335938, 'AF8': 803.040283203125, 'TP10': 799.8168334960938}\n",
      "{'_id': ObjectId('60c019bad64ad447d492542e'), 't': '2021-06-08 21:30:34.140694', 'TP9': 919.4871826171875, 'AF7': 802.2344360351562, 'AF8': 800.2197875976562, 'TP10': 807.069580078125}\n",
      "{'_id': ObjectId('60c019bad64ad447d492542f'), 't': '2021-06-08 21:30:34.141698', 'TP9': 926.7399291992188, 'AF7': 804.2490844726562, 'AF8': 802.2344360351562, 'TP10': 808.6813354492188}\n"
     ]
    }
   ],
   "source": [
    "for doc in db.raw_cappedCollection_65.find():\n",
    "    print(doc)"
   ]
  },
  {
   "cell_type": "code",
   "execution_count": 13,
   "id": "1023c4c9",
   "metadata": {},
   "outputs": [],
   "source": [
    "db.processed_0.find_one()"
   ]
  },
  {
   "cell_type": "code",
   "execution_count": 13,
   "id": "67518611",
   "metadata": {},
   "outputs": [
    {
     "ename": "ValueError",
     "evalue": "need at least one array to stack",
     "output_type": "error",
     "traceback": [
      "\u001b[1;31m---------------------------------------------------------------------------\u001b[0m",
      "\u001b[1;31mValueError\u001b[0m                                Traceback (most recent call last)",
      "\u001b[1;32m<ipython-input-13-d8adbfcef346>\u001b[0m in \u001b[0;36m<module>\u001b[1;34m\u001b[0m\n\u001b[1;32m----> 1\u001b[1;33m \u001b[0mplot_finished_session\u001b[0m\u001b[1;33m(\u001b[0m\u001b[0mlist_wavelet_solutions\u001b[0m\u001b[1;33m,\u001b[0m \u001b[0mlist_Hjorth_parameters\u001b[0m\u001b[1;33m)\u001b[0m\u001b[1;33m\u001b[0m\u001b[1;33m\u001b[0m\u001b[0m\n\u001b[0m",
      "\u001b[1;32m<ipython-input-8-3a12d1acbc73>\u001b[0m in \u001b[0;36mplot_finished_session\u001b[1;34m(list_wavelet_solutions_, list_Hjorth_parameters_)\u001b[0m\n\u001b[0;32m      1\u001b[0m \u001b[1;32mdef\u001b[0m \u001b[0mplot_finished_session\u001b[0m\u001b[1;33m(\u001b[0m\u001b[0mlist_wavelet_solutions_\u001b[0m\u001b[1;33m,\u001b[0m \u001b[0mlist_Hjorth_parameters_\u001b[0m\u001b[1;33m)\u001b[0m\u001b[1;33m:\u001b[0m\u001b[1;33m\u001b[0m\u001b[1;33m\u001b[0m\u001b[0m\n\u001b[1;32m----> 2\u001b[1;33m     \u001b[0mcomplex_wavelet_tensor\u001b[0m \u001b[1;33m=\u001b[0m \u001b[0mnp\u001b[0m\u001b[1;33m.\u001b[0m\u001b[0mstack\u001b[0m\u001b[1;33m(\u001b[0m\u001b[0mlist_wavelet_solutions_\u001b[0m\u001b[1;33m,\u001b[0m \u001b[0maxis\u001b[0m\u001b[1;33m=\u001b[0m\u001b[1;36m0\u001b[0m\u001b[1;33m)\u001b[0m\u001b[1;33m\u001b[0m\u001b[1;33m\u001b[0m\u001b[0m\n\u001b[0m\u001b[0;32m      3\u001b[0m \u001b[1;33m\u001b[0m\u001b[0m\n\u001b[0;32m      4\u001b[0m     \u001b[0mprint\u001b[0m\u001b[1;33m(\u001b[0m\u001b[1;34m'plotting wavelet power on each channel (columns) and each frequency (rows)'\u001b[0m\u001b[1;33m)\u001b[0m\u001b[1;33m\u001b[0m\u001b[1;33m\u001b[0m\u001b[0m\n\u001b[0;32m      5\u001b[0m     \u001b[0mpower_tensor\u001b[0m \u001b[1;33m=\u001b[0m \u001b[0mnp\u001b[0m\u001b[1;33m.\u001b[0m\u001b[0mabs\u001b[0m\u001b[1;33m(\u001b[0m\u001b[0mcomplex_wavelet_tensor\u001b[0m\u001b[1;33m**\u001b[0m\u001b[1;36m2\u001b[0m\u001b[1;33m)\u001b[0m\u001b[1;33m\u001b[0m\u001b[1;33m\u001b[0m\u001b[0m\n",
      "\u001b[1;32m<__array_function__ internals>\u001b[0m in \u001b[0;36mstack\u001b[1;34m(*args, **kwargs)\u001b[0m\n",
      "\u001b[1;32mc:\\users\\waltp\\appdata\\local\\pypoetry\\cache\\virtualenvs\\bci-n7qz1uqi-py3.9\\lib\\site-packages\\numpy\\core\\shape_base.py\u001b[0m in \u001b[0;36mstack\u001b[1;34m(arrays, axis, out)\u001b[0m\n\u001b[0;32m    421\u001b[0m     \u001b[0marrays\u001b[0m \u001b[1;33m=\u001b[0m \u001b[1;33m[\u001b[0m\u001b[0masanyarray\u001b[0m\u001b[1;33m(\u001b[0m\u001b[0marr\u001b[0m\u001b[1;33m)\u001b[0m \u001b[1;32mfor\u001b[0m \u001b[0marr\u001b[0m \u001b[1;32min\u001b[0m \u001b[0marrays\u001b[0m\u001b[1;33m]\u001b[0m\u001b[1;33m\u001b[0m\u001b[1;33m\u001b[0m\u001b[0m\n\u001b[0;32m    422\u001b[0m     \u001b[1;32mif\u001b[0m \u001b[1;32mnot\u001b[0m \u001b[0marrays\u001b[0m\u001b[1;33m:\u001b[0m\u001b[1;33m\u001b[0m\u001b[1;33m\u001b[0m\u001b[0m\n\u001b[1;32m--> 423\u001b[1;33m         \u001b[1;32mraise\u001b[0m \u001b[0mValueError\u001b[0m\u001b[1;33m(\u001b[0m\u001b[1;34m'need at least one array to stack'\u001b[0m\u001b[1;33m)\u001b[0m\u001b[1;33m\u001b[0m\u001b[1;33m\u001b[0m\u001b[0m\n\u001b[0m\u001b[0;32m    424\u001b[0m \u001b[1;33m\u001b[0m\u001b[0m\n\u001b[0;32m    425\u001b[0m     \u001b[0mshapes\u001b[0m \u001b[1;33m=\u001b[0m \u001b[1;33m{\u001b[0m\u001b[0marr\u001b[0m\u001b[1;33m.\u001b[0m\u001b[0mshape\u001b[0m \u001b[1;32mfor\u001b[0m \u001b[0marr\u001b[0m \u001b[1;32min\u001b[0m \u001b[0marrays\u001b[0m\u001b[1;33m}\u001b[0m\u001b[1;33m\u001b[0m\u001b[1;33m\u001b[0m\u001b[0m\n",
      "\u001b[1;31mValueError\u001b[0m: need at least one array to stack"
     ]
    }
   ],
   "source": [
    "plot_finished_session(list_wavelet_solutions, list_Hjorth_parameters)"
   ]
  },
  {
   "cell_type": "code",
   "execution_count": null,
   "id": "400cb167",
   "metadata": {},
   "outputs": [],
   "source": []
  },
  {
   "cell_type": "code",
   "execution_count": null,
   "id": "e9cdbc1d",
   "metadata": {},
   "outputs": [],
   "source": []
  },
  {
   "cell_type": "code",
   "execution_count": null,
   "id": "32e05d99",
   "metadata": {},
   "outputs": [],
   "source": []
  },
  {
   "cell_type": "code",
   "execution_count": null,
   "id": "1b68dd17",
   "metadata": {},
   "outputs": [],
   "source": []
  },
  {
   "cell_type": "code",
   "execution_count": null,
   "id": "18baa12b",
   "metadata": {},
   "outputs": [],
   "source": []
  },
  {
   "cell_type": "code",
   "execution_count": null,
   "id": "fc462df5",
   "metadata": {},
   "outputs": [],
   "source": [
    "#### NOTES Cell\n",
    "\n",
    "time0=time()\n",
    "\n",
    "# Using Complex Morlet Wavelets\n",
    "cmw = lambda t, f, s: (1/np.sqrt(s*np.sqrt(np.pi))) * np.exp(-t**2/(2*s**2)) * np.exp(1j*2*np.pi*f*t)\n",
    "std_for_gaussian = lambda n, f: n/(2*np.pi*f)\n",
    "\n",
    "windowLengthSeconds=0.25\n",
    "fs=256\n",
    "x = np.linspace(-windowLengthSeconds/2, windowLengthSeconds/2, int(windowLengthSeconds*fs)+1)  \n",
    "wavelet_freq_peaks = range(5,80,2)\n",
    "complex_morlet_wavelet = np.vstack([cmw(x, f=f_, s=std_for_gaussian(n=f_/5, f=f_)) for f_ in wavelet_freq_peaks])\n",
    "\n",
    "print(\"complex_morlet_wavelet.shape\",complex_morlet_wavelet.shape)\n",
    "\n",
    "for i in range(256*4+1):\n",
    "    sin_post = {'t':t[i], 'sin_A':sin1[i], 'sin_B':sin2[i], 'sin_C':sin1[i], 'sin_D':sin2[i]}\n",
    "    db.test_capped3.insert_one(sin_post)\n",
    "    if i % 64 == 0:\n",
    "        docs = db.test_capped3.find({}, projection={\"sin_A\":1,\"sin_B\":1,\"sin_C\":1,\"sin_D\":1, \"_id\":0})\n",
    "        X = np.array([[doc['sin_A'], doc['sin_B'], doc['sin_C'], doc['sin_D']] for doc in docs])\n",
    "        \n",
    "        wavelet_solution = np.dot(complex_morlet_wavelet, X)   # Convolution-like operation\n",
    "        \n",
    "        Hjorth_parameters = {'A': np.var(X, axis=0), \n",
    "                             'M': np.sqrt(np.var(np.diff(X, axis=0), axis=0)/np.var(X, axis=0)),\n",
    "                             'C': np.sqrt(np.var(np.diff(X, n=2, axis=0), axis=0)/np.var(X, axis=0))}\n",
    "        \n",
    "        print('sin_A\\nsin_B\\nsin_C\\nsin_D')\n",
    "        print('6Hz\\t\\t10Hz\\t\\t14Hz')\n",
    "        print('AMPLITUDE\\n',np.abs(wavelet_solution))\n",
    "        print('POWER\\n', np.abs(wavelet_solution**2))\n",
    "        print('PHASE\\n', np.angle(wavelet_solution))\n",
    "        print('HJORTH PARAMETERS',  Hjorth_parameters)\n",
    "        print('\\n')\n",
    "        \n",
    "print('Runtime (sec):', time()-time0)\n",
    "\n",
    "#complex_morlet_wavelet = cmw(x, freq, std_for_gaussian(n=n_wavelet_cycles, f=freq))"
   ]
  }
 ],
 "metadata": {
  "kernelspec": {
   "display_name": "Python 3",
   "language": "python",
   "name": "python3"
  },
  "language_info": {
   "codemirror_mode": {
    "name": "ipython",
    "version": 3
   },
   "file_extension": ".py",
   "mimetype": "text/x-python",
   "name": "python",
   "nbconvert_exporter": "python",
   "pygments_lexer": "ipython3",
   "version": "3.9.1"
  }
 },
 "nbformat": 4,
 "nbformat_minor": 5
}
